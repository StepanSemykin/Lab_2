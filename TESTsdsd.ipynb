{
 "cells": [
  {
   "cell_type": "code",
   "execution_count": null,
   "metadata": {},
   "outputs": [],
   "source": []
  }
 ],
 "metadata": {
  "kernelspec": {
   "display_name": "Python 3.10.4 ('pars')",
   "language": "python",
   "name": "python3"
  },
  "language_info": {
   "name": "python",
   "version": "3.10.4"
  },
  "orig_nbformat": 4,
  "vscode": {
   "interpreter": {
    "hash": "f75f5055fad64fe6375ce15f9075493612c220c7df75ead9ab0320c2b0a9c7ed"
   }
  }
 },
 "nbformat": 4,
 "nbformat_minor": 2
}
